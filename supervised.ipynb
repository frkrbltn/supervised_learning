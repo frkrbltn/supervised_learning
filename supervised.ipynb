{
 "cells": [
  {
   "cell_type": "code",
   "execution_count": 3,
   "id": "b8b7fb61",
   "metadata": {},
   "outputs": [],
   "source": [
    "# load packages\n",
    "\n",
    "# To assist with loading the dataset\n",
    "import matplotlib.image as mpimg\n",
    "\n",
    "# For the Logistic Regression classifier:\n",
    "from sklearn.linear_model import LogisticRegression\n",
    "\n",
    "# for the k nearest neigbors:\n",
    "from sklearn.neighbors import KNeighborsClassifier\n",
    "\n",
    "# For the SVM classifier:\n",
    "from sklearn.svm import LinearSVC\n",
    "\n",
    "from sklearn.metrics import accuracy_score\n",
    "\n",
    "import matplotlib.pyplot as plt\n",
    "import numpy as np"
   ]
  },
  {
   "cell_type": "code",
   "execution_count": 4,
   "id": "c8354e72",
   "metadata": {},
   "outputs": [
    {
     "ename": "NameError",
     "evalue": "name 'os' is not defined",
     "output_type": "error",
     "traceback": [
      "\u001b[0;31m---------------------------------------------------------------------------\u001b[0m",
      "\u001b[0;31mNameError\u001b[0m                                 Traceback (most recent call last)",
      "Cell \u001b[0;32mIn[4], line 5\u001b[0m\n\u001b[1;32m      3\u001b[0m train_dataset \u001b[38;5;241m=\u001b[39m []\n\u001b[1;32m      4\u001b[0m \u001b[38;5;28;01mfor\u001b[39;00m label \u001b[38;5;129;01min\u001b[39;00m [\u001b[38;5;241m0\u001b[39m, \u001b[38;5;241m1\u001b[39m, \u001b[38;5;241m2\u001b[39m, \u001b[38;5;241m3\u001b[39m, \u001b[38;5;241m4\u001b[39m, \u001b[38;5;241m5\u001b[39m, \u001b[38;5;241m6\u001b[39m, \u001b[38;5;241m7\u001b[39m, \u001b[38;5;241m8\u001b[39m, \u001b[38;5;241m9\u001b[39m]: \n\u001b[0;32m----> 5\u001b[0m     img_path \u001b[38;5;241m=\u001b[39m os\u001b[38;5;241m.\u001b[39mpath\u001b[38;5;241m.\u001b[39mjoin(\u001b[38;5;124m'\u001b[39m\u001b[38;5;124m./data\u001b[39m\u001b[38;5;124m'\u001b[39m, \u001b[38;5;124m'\u001b[39m\u001b[38;5;124mtrain\u001b[39m\u001b[38;5;124m'\u001b[39m, \u001b[38;5;28mstr\u001b[39m(label))\n\u001b[1;32m      6\u001b[0m     \u001b[38;5;28;01mfor\u001b[39;00m img \u001b[38;5;129;01min\u001b[39;00m os\u001b[38;5;241m.\u001b[39mlistdir(img_path):\n\u001b[1;32m      7\u001b[0m         image \u001b[38;5;241m=\u001b[39m mpimg\u001b[38;5;241m.\u001b[39mimread(os\u001b[38;5;241m.\u001b[39mpath\u001b[38;5;241m.\u001b[39mjoin(img_path, img))\n",
      "\u001b[0;31mNameError\u001b[0m: name 'os' is not defined"
     ]
    }
   ],
   "source": [
    "# load train_dataset\n",
    "\n",
    "train_dataset = []\n",
    "for label in [0, 1, 2, 3, 4, 5, 6, 7, 8, 9]: \n",
    "    img_path = os.path.join('./data', 'train', str(label))\n",
    "    for img in os.listdir(img_path):\n",
    "        image = mpimg.imread(os.path.join(img_path, img))\n",
    "        #test for image size and append to train_dataset list if 28x28 pixel image\n",
    "\n",
    "#load test_dataset\n",
    "\n",
    "\n",
    "print('The number of Training Data: ', len(train_dataset))\n",
    "print('The number of Testing Data: ', len(test_dataset))\n",
    "print('The size of images: ', train_dataset[0][0].shape)"
   ]
  },
  {
   "cell_type": "code",
   "execution_count": null,
   "id": "ddc951cd",
   "metadata": {},
   "outputs": [],
   "source": [
    "# convert images into vectors"
   ]
  },
  {
   "cell_type": "code",
   "execution_count": null,
   "id": "1bfa9aa3",
   "metadata": {},
   "outputs": [],
   "source": [
    "# train the classifier (choose one from the three options)"
   ]
  },
  {
   "cell_type": "code",
   "execution_count": null,
   "id": "7c3b7c44",
   "metadata": {},
   "outputs": [],
   "source": [
    "# determine accuracy"
   ]
  },
  {
   "cell_type": "code",
   "execution_count": null,
   "id": "48c3b1bd",
   "metadata": {},
   "outputs": [],
   "source": [
    "# display every 500th image"
   ]
  }
 ],
 "metadata": {
  "kernelspec": {
   "display_name": "Python 3",
   "language": "python",
   "name": "python3"
  },
  "language_info": {
   "codemirror_mode": {
    "name": "ipython",
    "version": 3
   },
   "file_extension": ".py",
   "mimetype": "text/x-python",
   "name": "python",
   "nbconvert_exporter": "python",
   "pygments_lexer": "ipython3",
   "version": "3.11.5"
  }
 },
 "nbformat": 4,
 "nbformat_minor": 5
}
